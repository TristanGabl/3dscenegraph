{
 "cells": [
  {
   "cell_type": "code",
   "execution_count": 2,
   "metadata": {
    "colab": {
     "base_uri": "https://localhost:8080/"
    },
    "id": "aYA7XY70v9Xz",
    "outputId": "769dd0a8-d849-4424-8636-02c6b04cf4d5"
   },
   "outputs": [
    {
     "name": "stderr",
     "output_type": "stream",
     "text": [
      "\n",
      "A module that was compiled using NumPy 1.x cannot be run in\n",
      "NumPy 2.1.2 as it may crash. To support both 1.x and 2.x\n",
      "versions of NumPy, modules must be compiled with NumPy 2.0.\n",
      "Some module may need to rebuild instead e.g. with 'pybind11>=2.12'.\n",
      "\n",
      "If you are a user of the module, the easiest solution will be to\n",
      "downgrade to 'numpy<2' or try to upgrade the affected module.\n",
      "We expect that some modules will need time to support NumPy 2.\n",
      "\n",
      "Traceback (most recent call last):  File \"/usr/lib/python3.10/runpy.py\", line 196, in _run_module_as_main\n",
      "    return _run_code(code, main_globals, None,\n",
      "  File \"/usr/lib/python3.10/runpy.py\", line 86, in _run_code\n",
      "    exec(code, run_globals)\n",
      "  File \"/home/tristan/3dscenegraph/.venv/lib/python3.10/site-packages/ipykernel_launcher.py\", line 18, in <module>\n",
      "    app.launch_new_instance()\n",
      "  File \"/home/tristan/3dscenegraph/.venv/lib/python3.10/site-packages/traitlets/config/application.py\", line 1075, in launch_instance\n",
      "    app.start()\n",
      "  File \"/home/tristan/3dscenegraph/.venv/lib/python3.10/site-packages/ipykernel/kernelapp.py\", line 739, in start\n",
      "    self.io_loop.start()\n",
      "  File \"/home/tristan/3dscenegraph/.venv/lib/python3.10/site-packages/tornado/platform/asyncio.py\", line 205, in start\n",
      "    self.asyncio_loop.run_forever()\n",
      "  File \"/usr/lib/python3.10/asyncio/base_events.py\", line 603, in run_forever\n",
      "    self._run_once()\n",
      "  File \"/usr/lib/python3.10/asyncio/base_events.py\", line 1909, in _run_once\n",
      "    handle._run()\n",
      "  File \"/usr/lib/python3.10/asyncio/events.py\", line 80, in _run\n",
      "    self._context.run(self._callback, *self._args)\n",
      "  File \"/home/tristan/3dscenegraph/.venv/lib/python3.10/site-packages/ipykernel/kernelbase.py\", line 545, in dispatch_queue\n",
      "    await self.process_one()\n",
      "  File \"/home/tristan/3dscenegraph/.venv/lib/python3.10/site-packages/ipykernel/kernelbase.py\", line 534, in process_one\n",
      "    await dispatch(*args)\n",
      "  File \"/home/tristan/3dscenegraph/.venv/lib/python3.10/site-packages/ipykernel/kernelbase.py\", line 437, in dispatch_shell\n",
      "    await result\n",
      "  File \"/home/tristan/3dscenegraph/.venv/lib/python3.10/site-packages/ipykernel/ipkernel.py\", line 362, in execute_request\n",
      "    await super().execute_request(stream, ident, parent)\n",
      "  File \"/home/tristan/3dscenegraph/.venv/lib/python3.10/site-packages/ipykernel/kernelbase.py\", line 778, in execute_request\n",
      "    reply_content = await reply_content\n",
      "  File \"/home/tristan/3dscenegraph/.venv/lib/python3.10/site-packages/ipykernel/ipkernel.py\", line 449, in do_execute\n",
      "    res = shell.run_cell(\n",
      "  File \"/home/tristan/3dscenegraph/.venv/lib/python3.10/site-packages/ipykernel/zmqshell.py\", line 549, in run_cell\n",
      "    return super().run_cell(*args, **kwargs)\n",
      "  File \"/home/tristan/3dscenegraph/.venv/lib/python3.10/site-packages/IPython/core/interactiveshell.py\", line 3077, in run_cell\n",
      "    result = self._run_cell(\n",
      "  File \"/home/tristan/3dscenegraph/.venv/lib/python3.10/site-packages/IPython/core/interactiveshell.py\", line 3132, in _run_cell\n",
      "    result = runner(coro)\n",
      "  File \"/home/tristan/3dscenegraph/.venv/lib/python3.10/site-packages/IPython/core/async_helpers.py\", line 128, in _pseudo_sync_runner\n",
      "    coro.send(None)\n",
      "  File \"/home/tristan/3dscenegraph/.venv/lib/python3.10/site-packages/IPython/core/interactiveshell.py\", line 3336, in run_cell_async\n",
      "    has_raised = await self.run_ast_nodes(code_ast.body, cell_name,\n",
      "  File \"/home/tristan/3dscenegraph/.venv/lib/python3.10/site-packages/IPython/core/interactiveshell.py\", line 3519, in run_ast_nodes\n",
      "    if await self.run_code(code, result, async_=asy):\n",
      "  File \"/home/tristan/3dscenegraph/.venv/lib/python3.10/site-packages/IPython/core/interactiveshell.py\", line 3579, in run_code\n",
      "    exec(code_obj, self.user_global_ns, self.user_ns)\n",
      "  File \"/tmp/ipykernel_18510/3173179406.py\", line 2, in <module>\n",
      "    import torch\n",
      "  File \"/home/tristan/3dscenegraph/.venv/lib/python3.10/site-packages/torch/__init__.py\", line 1471, in <module>\n",
      "    from .functional import *  # noqa: F403\n",
      "  File \"/home/tristan/3dscenegraph/.venv/lib/python3.10/site-packages/torch/functional.py\", line 9, in <module>\n",
      "    import torch.nn.functional as F\n",
      "  File \"/home/tristan/3dscenegraph/.venv/lib/python3.10/site-packages/torch/nn/__init__.py\", line 1, in <module>\n",
      "    from .modules import *  # noqa: F403\n",
      "  File \"/home/tristan/3dscenegraph/.venv/lib/python3.10/site-packages/torch/nn/modules/__init__.py\", line 35, in <module>\n",
      "    from .transformer import TransformerEncoder, TransformerDecoder, \\\n",
      "  File \"/home/tristan/3dscenegraph/.venv/lib/python3.10/site-packages/torch/nn/modules/transformer.py\", line 20, in <module>\n",
      "    device: torch.device = torch.device(torch._C._get_default_device()),  # torch.device('cpu'),\n",
      "/home/tristan/3dscenegraph/.venv/lib/python3.10/site-packages/torch/nn/modules/transformer.py:20: UserWarning: Failed to initialize NumPy: _ARRAY_API not found (Triggered internally at ../torch/csrc/utils/tensor_numpy.cpp:84.)\n",
      "  device: torch.device = torch.device(torch._C._get_default_device()),  # torch.device('cpu'),\n"
     ]
    },
    {
     "name": "stdout",
     "output_type": "stream",
     "text": [
      "torch:  2.2 ; cuda:  cpu\n",
      "/usr/bin/bash: line 1: nvcc: command not found\n"
     ]
    }
   ],
   "source": [
    "# Install detectron2\n",
    "import torch\n",
    "TORCH_VERSION = \".\".join(torch.__version__.split(\".\")[:2])\n",
    "CUDA_VERSION = torch.__version__.split(\"+\")[-1]\n",
    "print(\"torch: \", TORCH_VERSION, \"; cuda: \", CUDA_VERSION)\n",
    "!nvcc --version\n",
    "# Install detectron2 that matches the above pytorch version\n",
    "# See https://detectron2.readthedocs.io/tutorials/install.html for instructions"
   ]
  },
  {
   "cell_type": "code",
   "execution_count": 6,
   "metadata": {
    "colab": {
     "base_uri": "https://localhost:8080/"
    },
    "id": "7D6teGL90CoF",
    "outputId": "0e15e5c9-82a5-41a7-a8f7-5c43c4180e7e"
   },
   "outputs": [
    {
     "name": "stdout",
     "output_type": "stream",
     "text": [
      "Requirement already satisfied: pyyaml in ./.venv/lib/python3.10/site-packages (6.0.2)\n",
      "Collecting git+https://github.com/facebookresearch/detectron2.git\n",
      "  Cloning https://github.com/facebookresearch/detectron2.git to /tmp/pip-req-build-c9rbj9d7\n",
      "  Running command git clone --filter=blob:none --quiet https://github.com/facebookresearch/detectron2.git /tmp/pip-req-build-c9rbj9d7\n",
      "  Resolved https://github.com/facebookresearch/detectron2.git to commit 9604f5995cc628619f0e4fd913453b4d7d61db3f\n",
      "  Installing build dependencies ... \u001b[?25ldone\n",
      "\u001b[?25h  Getting requirements to build wheel ... \u001b[?25lerror\n",
      "  \u001b[1;31merror\u001b[0m: \u001b[1msubprocess-exited-with-error\u001b[0m\n",
      "  \n",
      "  \u001b[31m×\u001b[0m \u001b[32mGetting requirements to build wheel\u001b[0m did not run successfully.\n",
      "  \u001b[31m│\u001b[0m exit code: \u001b[1;36m1\u001b[0m\n",
      "  \u001b[31m╰─>\u001b[0m \u001b[31m[17 lines of output]\u001b[0m\n",
      "  \u001b[31m   \u001b[0m Traceback (most recent call last):\n",
      "  \u001b[31m   \u001b[0m   File \"/home/tristan/3dscenegraph/.venv/lib/python3.10/site-packages/pip/_vendor/pyproject_hooks/_in_process/_in_process.py\", line 389, in <module>\n",
      "  \u001b[31m   \u001b[0m     main()\n",
      "  \u001b[31m   \u001b[0m   File \"/home/tristan/3dscenegraph/.venv/lib/python3.10/site-packages/pip/_vendor/pyproject_hooks/_in_process/_in_process.py\", line 373, in main\n",
      "  \u001b[31m   \u001b[0m     json_out[\"return_val\"] = hook(**hook_input[\"kwargs\"])\n",
      "  \u001b[31m   \u001b[0m   File \"/home/tristan/3dscenegraph/.venv/lib/python3.10/site-packages/pip/_vendor/pyproject_hooks/_in_process/_in_process.py\", line 143, in get_requires_for_build_wheel\n",
      "  \u001b[31m   \u001b[0m     return hook(config_settings)\n",
      "  \u001b[31m   \u001b[0m   File \"/tmp/pip-build-env-0omhmsk3/overlay/lib/python3.10/site-packages/setuptools/build_meta.py\", line 334, in get_requires_for_build_wheel\n",
      "  \u001b[31m   \u001b[0m     return self._get_build_requires(config_settings, requirements=[])\n",
      "  \u001b[31m   \u001b[0m   File \"/tmp/pip-build-env-0omhmsk3/overlay/lib/python3.10/site-packages/setuptools/build_meta.py\", line 304, in _get_build_requires\n",
      "  \u001b[31m   \u001b[0m     self.run_setup()\n",
      "  \u001b[31m   \u001b[0m   File \"/tmp/pip-build-env-0omhmsk3/overlay/lib/python3.10/site-packages/setuptools/build_meta.py\", line 522, in run_setup\n",
      "  \u001b[31m   \u001b[0m     super().run_setup(setup_script=setup_script)\n",
      "  \u001b[31m   \u001b[0m   File \"/tmp/pip-build-env-0omhmsk3/overlay/lib/python3.10/site-packages/setuptools/build_meta.py\", line 320, in run_setup\n",
      "  \u001b[31m   \u001b[0m     exec(code, locals())\n",
      "  \u001b[31m   \u001b[0m   File \"<string>\", line 10, in <module>\n",
      "  \u001b[31m   \u001b[0m ModuleNotFoundError: No module named 'torch'\n",
      "  \u001b[31m   \u001b[0m \u001b[31m[end of output]\u001b[0m\n",
      "  \n",
      "  \u001b[1;35mnote\u001b[0m: This error originates from a subprocess, and is likely not a problem with pip.\n",
      "\u001b[?25h\u001b[1;31merror\u001b[0m: \u001b[1msubprocess-exited-with-error\u001b[0m\n",
      "\n",
      "\u001b[31m×\u001b[0m \u001b[32mGetting requirements to build wheel\u001b[0m did not run successfully.\n",
      "\u001b[31m│\u001b[0m exit code: \u001b[1;36m1\u001b[0m\n",
      "\u001b[31m╰─>\u001b[0m See above for output.\n",
      "\n",
      "\u001b[1;35mnote\u001b[0m: This error originates from a subprocess, and is likely not a problem with pip.\n"
     ]
    }
   ],
   "source": [
    "!python -m pip install pyyaml\n",
    "import sys, os, distutils.core\n",
    "# Note: This is a faster way to install detectron2 in Colab, but it does not include all functionalities (e.g. compiled operators).\n",
    "# See https://detectron2.readthedocs.io/tutorials/install.html for full installation instructions\n",
    "#!rm -r detectron2\n",
    "#!git clone 'https://github.com/facebookresearch/detectron2'\n",
    "#dist = distutils.core.run_setup(\"./detectron2/setup.py\")\n",
    "#!python -m pip install {' '.join([f\"'{x}'\" for x in dist.install_requires])}\n",
    "#sys.path.insert(0, os.path.abspath('./detectron2'))\n",
    "\n",
    "\n",
    "!python -m pip install 'git+https://github.com/facebookresearch/detectron2.git'"
   ]
  },
  {
   "cell_type": "code",
   "execution_count": 6,
   "metadata": {
    "colab": {
     "base_uri": "https://localhost:8080/"
    },
    "id": "-tV2c79-5s8n",
    "outputId": "ef0fdace-de87-449d-97df-f3c645e6313b"
   },
   "outputs": [
    {
     "name": "stdout",
     "output_type": "stream",
     "text": [
      "/usr/bin/bash: line 1: nvcc: command not found\n"
     ]
    },
    {
     "name": "stdout",
     "output_type": "stream",
     "text": [
      "torch:  2.2 ; cuda:  cpu\n",
      "detectron2: 0.6\n"
     ]
    }
   ],
   "source": [
    "import torch, detectron2\n",
    "!nvcc --version\n",
    "TORCH_VERSION = \".\".join(torch.__version__.split(\".\")[:2])\n",
    "CUDA_VERSION = torch.__version__.split(\"+\")[-1]\n",
    "print(\"torch: \", TORCH_VERSION, \"; cuda: \", CUDA_VERSION)\n",
    "print(\"detectron2:\", detectron2.__version__)"
   ]
  },
  {
   "cell_type": "code",
   "execution_count": 3,
   "metadata": {
    "colab": {
     "base_uri": "https://localhost:8080/"
    },
    "collapsed": true,
    "id": "YwZHrkNC57H8",
    "outputId": "5e87f9fa-2e2f-4090-d550-1d3b236d0c99"
   },
   "outputs": [
    {
     "name": "stdout",
     "output_type": "stream",
     "text": [
      "fatal: destination path 'Mask2Former' already exists and is not an empty directory.\n"
     ]
    },
    {
     "name": "stdout",
     "output_type": "stream",
     "text": [
      "/home/tristan/3dscenegraph/Mask2Former\n"
     ]
    },
    {
     "name": "stderr",
     "output_type": "stream",
     "text": [
      "/home/tristan/3dscenegraph/.venv/lib/python3.10/site-packages/IPython/core/magics/osm.py:417: UserWarning: This is now an optional IPython functionality, setting dhist requires you to install the `pickleshare` library.\n",
      "  self.shell.db['dhist'] = compress_dhist(dhist)[-100:]\n"
     ]
    },
    {
     "name": "stdout",
     "output_type": "stream",
     "text": [
      "Requirement already satisfied: opencv-python in /home/tristan/3dscenegraph/.venv/lib/python3.10/site-packages (4.11.0.86)\n",
      "Requirement already satisfied: numpy>=1.21.2 in /home/tristan/3dscenegraph/.venv/lib/python3.10/site-packages (from opencv-python) (2.1.2)\n",
      "Collecting git+https://github.com/cocodataset/panopticapi.git\n",
      "  Cloning https://github.com/cocodataset/panopticapi.git to /tmp/pip-req-build-4ln0o59e\n",
      "  Running command git clone --filter=blob:none --quiet https://github.com/cocodataset/panopticapi.git /tmp/pip-req-build-4ln0o59e\n",
      "  Resolved https://github.com/cocodataset/panopticapi.git to commit 7bb4655548f98f3fedc07bf37e9040a992b054b0\n",
      "  Preparing metadata (setup.py) ... \u001b[?25ldone\n",
      "\u001b[?25hRequirement already satisfied: Pillow in /home/tristan/3dscenegraph/.venv/lib/python3.10/site-packages (from panopticapi==0.1) (11.0.0)\n",
      "Requirement already satisfied: numpy in /home/tristan/3dscenegraph/.venv/lib/python3.10/site-packages (from panopticapi==0.1) (2.1.2)\n",
      "Requirement already satisfied: cython in /home/tristan/3dscenegraph/.venv/lib/python3.10/site-packages (from -r requirements.txt (line 1)) (3.0.12)\n",
      "Requirement already satisfied: scipy in /home/tristan/3dscenegraph/.venv/lib/python3.10/site-packages (from -r requirements.txt (line 2)) (1.15.2)\n",
      "Requirement already satisfied: shapely in /home/tristan/3dscenegraph/.venv/lib/python3.10/site-packages (from -r requirements.txt (line 3)) (2.0.7)\n",
      "Requirement already satisfied: timm in /home/tristan/3dscenegraph/.venv/lib/python3.10/site-packages (from -r requirements.txt (line 4)) (1.0.15)\n",
      "Requirement already satisfied: h5py in /home/tristan/3dscenegraph/.venv/lib/python3.10/site-packages (from -r requirements.txt (line 5)) (3.13.0)\n",
      "Requirement already satisfied: submitit in /home/tristan/3dscenegraph/.venv/lib/python3.10/site-packages (from -r requirements.txt (line 6)) (1.5.2)\n",
      "Requirement already satisfied: scikit-image in /home/tristan/3dscenegraph/.venv/lib/python3.10/site-packages (from -r requirements.txt (line 7)) (0.25.2)\n",
      "Requirement already satisfied: numpy<2.5,>=1.23.5 in /home/tristan/3dscenegraph/.venv/lib/python3.10/site-packages (from scipy->-r requirements.txt (line 2)) (2.1.2)\n",
      "Requirement already satisfied: torch in /home/tristan/3dscenegraph/.venv/lib/python3.10/site-packages (from timm->-r requirements.txt (line 4)) (2.6.0+cpu)\n",
      "Requirement already satisfied: torchvision in /home/tristan/3dscenegraph/.venv/lib/python3.10/site-packages (from timm->-r requirements.txt (line 4)) (0.21.0+cpu)\n",
      "Requirement already satisfied: pyyaml in /home/tristan/3dscenegraph/.venv/lib/python3.10/site-packages (from timm->-r requirements.txt (line 4)) (6.0.2)\n",
      "Requirement already satisfied: huggingface_hub in /home/tristan/3dscenegraph/.venv/lib/python3.10/site-packages (from timm->-r requirements.txt (line 4)) (0.29.2)\n",
      "Requirement already satisfied: safetensors in /home/tristan/3dscenegraph/.venv/lib/python3.10/site-packages (from timm->-r requirements.txt (line 4)) (0.5.3)\n",
      "Requirement already satisfied: cloudpickle>=1.2.1 in /home/tristan/3dscenegraph/.venv/lib/python3.10/site-packages (from submitit->-r requirements.txt (line 6)) (3.1.1)\n",
      "Requirement already satisfied: typing_extensions>=3.7.4.2 in /home/tristan/3dscenegraph/.venv/lib/python3.10/site-packages (from submitit->-r requirements.txt (line 6)) (4.12.2)\n",
      "Requirement already satisfied: networkx>=3.0 in /home/tristan/3dscenegraph/.venv/lib/python3.10/site-packages (from scikit-image->-r requirements.txt (line 7)) (3.4.2)\n",
      "Requirement already satisfied: pillow>=10.1 in /home/tristan/3dscenegraph/.venv/lib/python3.10/site-packages (from scikit-image->-r requirements.txt (line 7)) (11.0.0)\n",
      "Requirement already satisfied: imageio!=2.35.0,>=2.33 in /home/tristan/3dscenegraph/.venv/lib/python3.10/site-packages (from scikit-image->-r requirements.txt (line 7)) (2.37.0)\n",
      "Requirement already satisfied: tifffile>=2022.8.12 in /home/tristan/3dscenegraph/.venv/lib/python3.10/site-packages (from scikit-image->-r requirements.txt (line 7)) (2025.2.18)\n",
      "Requirement already satisfied: packaging>=21 in /home/tristan/3dscenegraph/.venv/lib/python3.10/site-packages (from scikit-image->-r requirements.txt (line 7)) (24.2)\n",
      "Requirement already satisfied: lazy-loader>=0.4 in /home/tristan/3dscenegraph/.venv/lib/python3.10/site-packages (from scikit-image->-r requirements.txt (line 7)) (0.4)\n",
      "Requirement already satisfied: filelock in /home/tristan/3dscenegraph/.venv/lib/python3.10/site-packages (from huggingface_hub->timm->-r requirements.txt (line 4)) (3.17.0)\n",
      "Requirement already satisfied: fsspec>=2023.5.0 in /home/tristan/3dscenegraph/.venv/lib/python3.10/site-packages (from huggingface_hub->timm->-r requirements.txt (line 4)) (2025.3.0)\n",
      "Requirement already satisfied: requests in /home/tristan/3dscenegraph/.venv/lib/python3.10/site-packages (from huggingface_hub->timm->-r requirements.txt (line 4)) (2.32.3)\n",
      "Requirement already satisfied: tqdm>=4.42.1 in /home/tristan/3dscenegraph/.venv/lib/python3.10/site-packages (from huggingface_hub->timm->-r requirements.txt (line 4)) (4.67.1)\n",
      "Requirement already satisfied: jinja2 in /home/tristan/3dscenegraph/.venv/lib/python3.10/site-packages (from torch->timm->-r requirements.txt (line 4)) (3.1.6)\n",
      "Requirement already satisfied: sympy==1.13.1 in /home/tristan/3dscenegraph/.venv/lib/python3.10/site-packages (from torch->timm->-r requirements.txt (line 4)) (1.13.1)\n",
      "Requirement already satisfied: mpmath<1.4,>=1.1.0 in /home/tristan/3dscenegraph/.venv/lib/python3.10/site-packages (from sympy==1.13.1->torch->timm->-r requirements.txt (line 4)) (1.3.0)\n",
      "Requirement already satisfied: MarkupSafe>=2.0 in /home/tristan/3dscenegraph/.venv/lib/python3.10/site-packages (from jinja2->torch->timm->-r requirements.txt (line 4)) (3.0.2)\n",
      "Requirement already satisfied: charset-normalizer<4,>=2 in /home/tristan/3dscenegraph/.venv/lib/python3.10/site-packages (from requests->huggingface_hub->timm->-r requirements.txt (line 4)) (3.4.1)\n",
      "Requirement already satisfied: idna<4,>=2.5 in /home/tristan/3dscenegraph/.venv/lib/python3.10/site-packages (from requests->huggingface_hub->timm->-r requirements.txt (line 4)) (3.10)\n",
      "Requirement already satisfied: urllib3<3,>=1.21.1 in /home/tristan/3dscenegraph/.venv/lib/python3.10/site-packages (from requests->huggingface_hub->timm->-r requirements.txt (line 4)) (2.3.0)\n",
      "Requirement already satisfied: certifi>=2017.4.17 in /home/tristan/3dscenegraph/.venv/lib/python3.10/site-packages (from requests->huggingface_hub->timm->-r requirements.txt (line 4)) (2025.1.31)\n"
     ]
    }
   ],
   "source": [
    "!git clone https://github.com/facebookresearch/Mask2Former.git\n",
    "%cd Mask2Former\n",
    "!pip install -U opencv-python\n",
    "!pip install git+https://github.com/cocodataset/panopticapi.git\n",
    "!pip install -r requirements.txt"
   ]
  },
  {
   "cell_type": "markdown",
   "metadata": {
    "id": "YubMd5I4Z5kc"
   },
   "source": []
  },
  {
   "cell_type": "code",
   "execution_count": 4,
   "metadata": {
    "colab": {
     "base_uri": "https://localhost:8080/"
    },
    "collapsed": true,
    "id": "U1p05xCG6BtJ",
    "outputId": "80a2f7bd-f168-4e8d-82d0-bca6b4762d12"
   },
   "outputs": [
    {
     "name": "stdout",
     "output_type": "stream",
     "text": [
      "/home/tristan/3dscenegraph/Mask2Former/mask2former/modeling/pixel_decoder/ops\n",
      "Traceback (most recent call last):\n",
      "  File \"/home/tristan/3dscenegraph/Mask2Former/mask2former/modeling/pixel_decoder/ops/setup.py\", line 76, in <module>\n",
      "    ext_modules=get_extensions(),\n",
      "  File \"/home/tristan/3dscenegraph/Mask2Former/mask2former/modeling/pixel_decoder/ops/setup.py\", line 52, in get_extensions\n",
      "    raise NotImplementedError('CUDA_HOME is None. Please set environment variable CUDA_HOME.')\n",
      "NotImplementedError: CUDA_HOME is None. Please set environment variable CUDA_HOME.\n",
      "/home/tristan/3dscenegraph/Mask2Former\n"
     ]
    }
   ],
   "source": [
    "%cd mask2former/modeling/pixel_decoder/ops\n",
    "!sh make.sh\n",
    "%cd ../../../../"
   ]
  },
  {
   "cell_type": "code",
   "execution_count": 1,
   "metadata": {
    "colab": {
     "base_uri": "https://localhost:8080/"
    },
    "id": "hQFgizfQ7K9l",
    "outputId": "2ad3678f-8cd5-4142-d24b-bc0ca5c93568"
   },
   "outputs": [
    {
     "name": "stdout",
     "output_type": "stream",
     "text": [
      "[Errno 2] No such file or directory: '/teamspace/studios/this_studio/Mask2Former'\n",
      "/home/tristan/3dscenegraph\n"
     ]
    },
    {
     "name": "stderr",
     "output_type": "stream",
     "text": [
      "/home/tristan/3dscenegraph/.venv/lib/python3.10/site-packages/IPython/core/magics/osm.py:393: UserWarning: This is now an optional IPython functionality, using bookmarks requires you to install the `pickleshare` library.\n",
      "  bkms = self.shell.db.get('bookmarks', {})\n"
     ]
    },
    {
     "ename": "ModuleNotFoundError",
     "evalue": "No module named 'google.colab'",
     "output_type": "error",
     "traceback": [
      "\u001b[0;31m---------------------------------------------------------------------------\u001b[0m",
      "\u001b[0;31mModuleNotFoundError\u001b[0m                       Traceback (most recent call last)",
      "Cell \u001b[0;32mIn[1], line 14\u001b[0m\n\u001b[1;32m     12\u001b[0m \u001b[38;5;28;01mimport\u001b[39;00m\u001b[38;5;250m \u001b[39m\u001b[38;5;21;01mcv2\u001b[39;00m\n\u001b[1;32m     13\u001b[0m \u001b[38;5;28;01mimport\u001b[39;00m\u001b[38;5;250m \u001b[39m\u001b[38;5;21;01mtorch\u001b[39;00m\n\u001b[0;32m---> 14\u001b[0m \u001b[38;5;28;01mfrom\u001b[39;00m\u001b[38;5;250m \u001b[39m\u001b[38;5;21;01mgoogle\u001b[39;00m\u001b[38;5;21;01m.\u001b[39;00m\u001b[38;5;21;01mcolab\u001b[39;00m\u001b[38;5;21;01m.\u001b[39;00m\u001b[38;5;21;01mpatches\u001b[39;00m\u001b[38;5;250m \u001b[39m\u001b[38;5;28;01mimport\u001b[39;00m cv2_imshow\n\u001b[1;32m     16\u001b[0m \u001b[38;5;66;03m# import some common detectron2 utilities\u001b[39;00m\n\u001b[1;32m     17\u001b[0m \u001b[38;5;28;01mfrom\u001b[39;00m\u001b[38;5;250m \u001b[39m\u001b[38;5;21;01mdetectron2\u001b[39;00m\u001b[38;5;250m \u001b[39m\u001b[38;5;28;01mimport\u001b[39;00m model_zoo\n",
      "\u001b[0;31mModuleNotFoundError\u001b[0m: No module named 'google.colab'"
     ]
    }
   ],
   "source": [
    "# You may need to restart your runtime prior to this, to let your installation take effect\n",
    "%cd /teamspace/studios/this_studio/Mask2Former\n",
    "# Some basic setup:\n",
    "# Setup detectron2 logger\n",
    "import detectron2\n",
    "from detectron2.utils.logger import setup_logger\n",
    "setup_logger()\n",
    "setup_logger(name=\"mask2former\")\n",
    "\n",
    "# import some common libraries\n",
    "import numpy as np\n",
    "import cv2\n",
    "import torch\n",
    "from google.colab.patches import cv2_imshow\n",
    "\n",
    "# import some common detectron2 utilities\n",
    "from detectron2 import model_zoo\n",
    "from detectron2.engine import DefaultPredictor\n",
    "from detectron2.config import get_cfg\n",
    "from detectron2.utils.visualizer import Visualizer, ColorMode\n",
    "from detectron2.data import MetadataCatalog\n",
    "from detectron2.projects.deeplab import add_deeplab_config\n",
    "coco_metadata = MetadataCatalog.get(\"coco_2017_val_panoptic\")\n",
    "\n",
    "print(\"Test\")\n",
    "\n",
    "import MultiScaleDeformableAttention as MSDA\n",
    "from detectron2 import _C\n",
    "\n",
    "print(\"Test2\")\n",
    "# import Mask2Former project\n",
    "from mask2former import add_maskformer2_config\n"
   ]
  },
  {
   "cell_type": "code",
   "execution_count": 1,
   "metadata": {},
   "outputs": [
    {
     "ename": "ModuleNotFoundError",
     "evalue": "No module named 'mask2former'",
     "output_type": "error",
     "traceback": [
      "\u001b[0;31m---------------------------------------------------------------------------\u001b[0m",
      "\u001b[0;31mModuleNotFoundError\u001b[0m                       Traceback (most recent call last)",
      "Cell \u001b[0;32mIn[1], line 1\u001b[0m\n\u001b[0;32m----> 1\u001b[0m \u001b[38;5;28;01mimport\u001b[39;00m\u001b[38;5;250m \u001b[39m\u001b[38;5;21;01mmask2former\u001b[39;00m\n",
      "\u001b[0;31mModuleNotFoundError\u001b[0m: No module named 'mask2former'"
     ]
    }
   ],
   "source": [
    "import mask2former"
   ]
  },
  {
   "cell_type": "code",
   "execution_count": 3,
   "metadata": {
    "id": "iHDJa5onjwf1"
   },
   "outputs": [
    {
     "name": "stdout",
     "output_type": "stream",
     "text": [
      "/teamspace/studios/this_studio/Mask2Former\n"
     ]
    },
    {
     "name": "stderr",
     "output_type": "stream",
     "text": [
      "/home/zeus/miniconda3/envs/cloudspace/lib/python3.10/site-packages/timm/models/layers/__init__.py:48: FutureWarning: Importing from timm.models.layers is deprecated, please import via timm.layers\n",
      "  warnings.warn(f\"Importing from {__name__} is deprecated, please import via timm.layers\", FutureWarning)\n"
     ]
    }
   ],
   "source": [
    "%cd /teamspace/studios/this_studio/Mask2Former\n",
    "import mask2former\n",
    "\n",
    "\n"
   ]
  },
  {
   "cell_type": "code",
   "execution_count": null,
   "metadata": {
    "colab": {
     "base_uri": "https://localhost:8080/",
     "height": 418
    },
    "id": "KXhPLYmelEdj",
    "outputId": "4982f4ad-144c-4306-c81d-f8092cd56365"
   },
   "outputs": [
    {
     "name": "stdout",
     "output_type": "stream",
     "text": [
      "/content\n"
     ]
    },
    {
     "ename": "RuntimeError",
     "evalue": "COCO-InstanceSegmentation/mask2former_R50_bs16_50ep.yaml not available in Model Zoo!",
     "output_type": "error",
     "traceback": [
      "\u001b[0;31m---------------------------------------------------------------------------\u001b[0m",
      "\u001b[0;31mRuntimeError\u001b[0m                              Traceback (most recent call last)",
      "\u001b[0;32m<ipython-input-6-257612c8eaaf>\u001b[0m in \u001b[0;36m<cell line: 63>\u001b[0;34m()\u001b[0m\n\u001b[1;32m     62\u001b[0m \u001b[0;34m\u001b[0m\u001b[0m\n\u001b[1;32m     63\u001b[0m \u001b[0;32mif\u001b[0m \u001b[0m__name__\u001b[0m \u001b[0;34m==\u001b[0m \u001b[0;34m\"__main__\"\u001b[0m\u001b[0;34m:\u001b[0m\u001b[0;34m\u001b[0m\u001b[0;34m\u001b[0m\u001b[0m\n\u001b[0;32m---> 64\u001b[0;31m     \u001b[0mmain\u001b[0m\u001b[0;34m(\u001b[0m\u001b[0;34m)\u001b[0m\u001b[0;34m\u001b[0m\u001b[0;34m\u001b[0m\u001b[0m\n\u001b[0m",
      "\u001b[0;32m<ipython-input-6-257612c8eaaf>\u001b[0m in \u001b[0;36mmain\u001b[0;34m()\u001b[0m\n\u001b[1;32m     48\u001b[0m     \u001b[0mget_ipython\u001b[0m\u001b[0;34m(\u001b[0m\u001b[0;34m)\u001b[0m\u001b[0;34m.\u001b[0m\u001b[0mrun_line_magic\u001b[0m\u001b[0;34m(\u001b[0m\u001b[0;34m'cd'\u001b[0m\u001b[0;34m,\u001b[0m \u001b[0;34m'/content'\u001b[0m\u001b[0;34m)\u001b[0m\u001b[0;34m\u001b[0m\u001b[0;34m\u001b[0m\u001b[0m\n\u001b[1;32m     49\u001b[0m \u001b[0;34m\u001b[0m\u001b[0m\n\u001b[0;32m---> 50\u001b[0;31m     \u001b[0mcfg\u001b[0m \u001b[0;34m=\u001b[0m \u001b[0msetup_cfg\u001b[0m\u001b[0;34m(\u001b[0m\u001b[0;34m)\u001b[0m\u001b[0;34m\u001b[0m\u001b[0;34m\u001b[0m\u001b[0m\n\u001b[0m\u001b[1;32m     51\u001b[0m     \u001b[0mpredictor\u001b[0m \u001b[0;34m=\u001b[0m \u001b[0mDefaultPredictor\u001b[0m\u001b[0;34m(\u001b[0m\u001b[0mcfg\u001b[0m\u001b[0;34m)\u001b[0m\u001b[0;34m\u001b[0m\u001b[0;34m\u001b[0m\u001b[0m\n\u001b[1;32m     52\u001b[0m \u001b[0;34m\u001b[0m\u001b[0m\n",
      "\u001b[0;32m<ipython-input-6-257612c8eaaf>\u001b[0m in \u001b[0;36msetup_cfg\u001b[0;34m()\u001b[0m\n\u001b[1;32m     10\u001b[0m \u001b[0;32mdef\u001b[0m \u001b[0msetup_cfg\u001b[0m\u001b[0;34m(\u001b[0m\u001b[0;34m)\u001b[0m\u001b[0;34m:\u001b[0m\u001b[0;34m\u001b[0m\u001b[0;34m\u001b[0m\u001b[0m\n\u001b[1;32m     11\u001b[0m     \u001b[0mcfg\u001b[0m \u001b[0;34m=\u001b[0m \u001b[0mget_cfg\u001b[0m\u001b[0;34m(\u001b[0m\u001b[0;34m)\u001b[0m\u001b[0;34m\u001b[0m\u001b[0;34m\u001b[0m\u001b[0m\n\u001b[0;32m---> 12\u001b[0;31m     \u001b[0mcfg\u001b[0m\u001b[0;34m.\u001b[0m\u001b[0mmerge_from_file\u001b[0m\u001b[0;34m(\u001b[0m\u001b[0mget_config_file\u001b[0m\u001b[0;34m(\u001b[0m\u001b[0;34m\"COCO-InstanceSegmentation/mask2former_R50_bs16_50ep.yaml\"\u001b[0m\u001b[0;34m)\u001b[0m\u001b[0;34m)\u001b[0m\u001b[0;34m\u001b[0m\u001b[0;34m\u001b[0m\u001b[0m\n\u001b[0m\u001b[1;32m     13\u001b[0m     \u001b[0mcfg\u001b[0m\u001b[0;34m.\u001b[0m\u001b[0mMODEL\u001b[0m\u001b[0;34m.\u001b[0m\u001b[0mWEIGHTS\u001b[0m \u001b[0;34m=\u001b[0m \u001b[0mget_checkpoint_url\u001b[0m\u001b[0;34m(\u001b[0m\u001b[0;34m\"COCO-InstanceSegmentation/mask2former_R50_bs16_50ep.yaml\"\u001b[0m\u001b[0;34m)\u001b[0m\u001b[0;34m\u001b[0m\u001b[0;34m\u001b[0m\u001b[0m\n\u001b[1;32m     14\u001b[0m     \u001b[0mcfg\u001b[0m\u001b[0;34m.\u001b[0m\u001b[0mMODEL\u001b[0m\u001b[0;34m.\u001b[0m\u001b[0mDEVICE\u001b[0m \u001b[0;34m=\u001b[0m \u001b[0;34m\"cuda\"\u001b[0m \u001b[0;32mif\u001b[0m \u001b[0mtorch\u001b[0m\u001b[0;34m.\u001b[0m\u001b[0mcuda\u001b[0m\u001b[0;34m.\u001b[0m\u001b[0mis_available\u001b[0m\u001b[0;34m(\u001b[0m\u001b[0;34m)\u001b[0m \u001b[0;32melse\u001b[0m \u001b[0;34m\"cpu\"\u001b[0m\u001b[0;34m\u001b[0m\u001b[0;34m\u001b[0m\u001b[0m\n",
      "\u001b[0;32m/usr/local/lib/python3.10/dist-packages/detectron2/model_zoo/model_zoo.py\u001b[0m in \u001b[0;36mget_config_file\u001b[0;34m(config_path)\u001b[0m\n\u001b[1;32m    141\u001b[0m     )\n\u001b[1;32m    142\u001b[0m     \u001b[0;32mif\u001b[0m \u001b[0;32mnot\u001b[0m \u001b[0mos\u001b[0m\u001b[0;34m.\u001b[0m\u001b[0mpath\u001b[0m\u001b[0;34m.\u001b[0m\u001b[0mexists\u001b[0m\u001b[0;34m(\u001b[0m\u001b[0mcfg_file\u001b[0m\u001b[0;34m)\u001b[0m\u001b[0;34m:\u001b[0m\u001b[0;34m\u001b[0m\u001b[0;34m\u001b[0m\u001b[0m\n\u001b[0;32m--> 143\u001b[0;31m         \u001b[0;32mraise\u001b[0m \u001b[0mRuntimeError\u001b[0m\u001b[0;34m(\u001b[0m\u001b[0;34m\"{} not available in Model Zoo!\"\u001b[0m\u001b[0;34m.\u001b[0m\u001b[0mformat\u001b[0m\u001b[0;34m(\u001b[0m\u001b[0mconfig_path\u001b[0m\u001b[0;34m)\u001b[0m\u001b[0;34m)\u001b[0m\u001b[0;34m\u001b[0m\u001b[0;34m\u001b[0m\u001b[0m\n\u001b[0m\u001b[1;32m    144\u001b[0m     \u001b[0;32mreturn\u001b[0m \u001b[0mcfg_file\u001b[0m\u001b[0;34m\u001b[0m\u001b[0;34m\u001b[0m\u001b[0m\n\u001b[1;32m    145\u001b[0m \u001b[0;34m\u001b[0m\u001b[0m\n",
      "\u001b[0;31mRuntimeError\u001b[0m: COCO-InstanceSegmentation/mask2former_R50_bs16_50ep.yaml not available in Model Zoo!"
     ]
    }
   ],
   "source": [
    "import torch\n",
    "import cv2\n",
    "import numpy as np\n",
    "import matplotlib.pyplot as plt\n",
    "from detectron2.engine import DefaultPredictor\n",
    "from detectron2.config import get_cfg\n",
    "from detectron2.model_zoo import get_config_file, get_checkpoint_url\n",
    "from detectron2.data import MetadataCatalog\n",
    "\n",
    "def setup_cfg():\n",
    "    cfg = get_cfg()\n",
    "    cfg.merge_from_file(get_config_file(\"COCO-InstanceSegmentation/mask2former_R50_bs16_50ep.yaml\"))\n",
    "    cfg.MODEL.WEIGHTS = get_checkpoint_url(\"COCO-InstanceSegmentation/mask2former_R50_bs16_50ep.yaml\")\n",
    "    cfg.MODEL.DEVICE = \"cuda\" if torch.cuda.is_available() else \"cpu\"\n",
    "    cfg.MODEL.MASK_FORMER.TEST.SEMANTIC_ON = True  # Enable semantic segmentation\n",
    "    cfg.MODEL.MASK_FORMER.TEST.INSTANCE_ON = False # Disable instance segmentation if not needed\n",
    "    cfg.MODEL.MASK_FORMER.TEST.PANOPTIC_ON = False # Disable panoptic segmentation if not needed\n",
    "    cfg.freeze()\n",
    "    return cfg\n",
    "\n",
    "def load_image(image_path):\n",
    "    image = cv2.imread(image_path)\n",
    "    return cv2.cvtColor(image, cv2.COLOR_BGR2RGB)\n",
    "\n",
    "def visualize_segmentation(image, outputs):\n",
    "    mask = outputs[\"sem_seg\"].argmax(dim=0).cpu().numpy()\n",
    "    unique_labels = np.unique(mask)\n",
    "    colored_mask = np.zeros((*mask.shape, 3), dtype=np.uint8)\n",
    "\n",
    "    for label in unique_labels:\n",
    "        color = np.random.randint(0, 255, size=3)\n",
    "        colored_mask[mask == label] = color\n",
    "\n",
    "    plt.figure(figsize=(10, 5))\n",
    "    plt.subplot(1, 2, 1)\n",
    "    plt.title(\"Original Image\")\n",
    "    plt.imshow(image)\n",
    "    plt.axis(\"off\")\n",
    "\n",
    "    plt.subplot(1, 2, 2)\n",
    "    plt.title(\"Mask2Former Segmentation\")\n",
    "    plt.imshow(colored_mask)\n",
    "    plt.axis(\"off\")\n",
    "    plt.show()\n",
    "\n",
    "def main():\n",
    "    # Set up the model configuration and load weights\n",
    "    %cd /content\n",
    "\n",
    "    cfg = setup_cfg()\n",
    "    predictor = DefaultPredictor(cfg)\n",
    "\n",
    "    # Load an example image\n",
    "    image_path = \"image.jpg\"  # Replace with your image path\n",
    "    image = load_image(image_path)\n",
    "\n",
    "    # Perform segmentation\n",
    "    outputs = predictor(image)\n",
    "\n",
    "    # Visualize the result\n",
    "    visualize_segmentation(image, outputs)\n",
    "\n",
    "if __name__ == \"__main__\":\n",
    "    main()"
   ]
  }
 ],
 "metadata": {
  "accelerator": "GPU",
  "colab": {
   "gpuType": "T4",
   "provenance": []
  },
  "kernelspec": {
   "display_name": ".venv",
   "language": "python",
   "name": "python3"
  },
  "language_info": {
   "codemirror_mode": {
    "name": "ipython",
    "version": 3
   },
   "file_extension": ".py",
   "mimetype": "text/x-python",
   "name": "python",
   "nbconvert_exporter": "python",
   "pygments_lexer": "ipython3",
   "version": "3.10.12"
  }
 },
 "nbformat": 4,
 "nbformat_minor": 0
}
